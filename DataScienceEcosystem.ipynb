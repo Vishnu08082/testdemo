{
 "cells": [
  {
   "cell_type": "markdown",
   "id": "11811116-4625-4b62-af52-8cd99ba2529c",
   "metadata": {},
   "source": [
    "# Data Science Tools and Ecosystem"
   ]
  },
  {
   "cell_type": "markdown",
   "id": "56ced56a-98b8-45fa-b147-98e2cec79d8d",
   "metadata": {
    "tags": []
   },
   "source": [
    "*In this notebook, Data Science Tools and Ecosystems are summarized*"
   ]
  },
  {
   "cell_type": "markdown",
   "id": "86ad1ee1-613b-4748-b3b7-a90a0f95a310",
   "metadata": {},
   "source": [
    "Some of the popular languages that data scientists use are:"
   ]
  },
  {
   "cell_type": "markdown",
   "id": "f65c751f-13f2-4e92-9dc3-48512540b9cc",
   "metadata": {},
   "source": [
    "1. Python\n",
    "2. Java\n",
    "3. R"
   ]
  },
  {
   "cell_type": "markdown",
   "id": "28b7c581-babe-4a12-b217-81795b9ad71e",
   "metadata": {},
   "source": [
    "Some of the commonly used libraries used by data scientists include:"
   ]
  },
  {
   "cell_type": "markdown",
   "id": "439aee53-1200-4868-86a2-ca4f23dafcf3",
   "metadata": {
    "tags": []
   },
   "source": [
    "1. Pandas\n",
    "2. SciPy\n",
    "3. Matplotlib"
   ]
  },
  {
   "cell_type": "markdown",
   "id": "a479d441-2ab2-420b-b7cf-b2a2b82fabd8",
   "metadata": {},
   "source": [
    "| Data Science Tools |\n",
    "| --------------------|\n",
    "| Weka |\n",
    "| Java-ML |\n",
    "| Apache MLib |"
   ]
  },
  {
   "cell_type": "markdown",
   "id": "610e36c0-e623-430d-9e5f-eca5486602ad",
   "metadata": {},
   "source": [
    "### Below are a few examples of evaluating arithmetic expressions in Python"
   ]
  },
  {
   "cell_type": "code",
   "execution_count": null,
   "id": "c630e5ca-2e0c-4951-a39e-cbac321a83f3",
   "metadata": {},
   "outputs": [],
   "source": []
  }
 ],
 "metadata": {
  "kernelspec": {
   "display_name": "Python",
   "language": "python",
   "name": "conda-env-python-py"
  },
  "language_info": {
   "codemirror_mode": {
    "name": "ipython",
    "version": 3
   },
   "file_extension": ".py",
   "mimetype": "text/x-python",
   "name": "python",
   "nbconvert_exporter": "python",
   "pygments_lexer": "ipython3",
   "version": "3.7.12"
  }
 },
 "nbformat": 4,
 "nbformat_minor": 5
}
